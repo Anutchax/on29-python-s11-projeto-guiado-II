{
 "cells": [
  {
   "cell_type": "markdown",
   "metadata": {},
   "source": [
    "Importando arquivo de dados brutos e sqlite3:"
   ]
  },
  {
   "cell_type": "code",
   "execution_count": 24,
   "metadata": {},
   "outputs": [],
   "source": [
    "import csv\n",
    "import sqlite3"
   ]
  },
  {
   "cell_type": "markdown",
   "metadata": {},
   "source": [
    "Criando database no sqlite3:"
   ]
  },
  {
   "cell_type": "code",
   "execution_count": 38,
   "metadata": {},
   "outputs": [],
   "source": [
    "file = open(\"mxmh_survey_results.csv\")"
   ]
  },
  {
   "cell_type": "code",
   "execution_count": 39,
   "metadata": {},
   "outputs": [],
   "source": [
    "conteudo = csv.reader(file)"
   ]
  },
  {
   "cell_type": "code",
   "execution_count": 40,
   "metadata": {},
   "outputs": [],
   "source": [
    "connection = sqlite3.connect(\"banco_de_dados_mxmh.db\")"
   ]
  },
  {
   "cell_type": "code",
   "execution_count": 41,
   "metadata": {},
   "outputs": [],
   "source": [
    "cursor = connection.cursor()"
   ]
  },
  {
   "cell_type": "code",
   "execution_count": 57,
   "metadata": {},
   "outputs": [
    {
     "data": {
      "text/plain": [
       "'CREATE DATABASE MXMH_Survey USE MXMH_Survey'"
      ]
     },
     "execution_count": 57,
     "metadata": {},
     "output_type": "execute_result"
    }
   ],
   "source": [
    "\"CREATE DATABASE MXMH_Survey USE MXMH_Survey\""
   ]
  },
  {
   "cell_type": "code",
   "execution_count": null,
   "metadata": {},
   "outputs": [],
   "source": [
    "cursor.execute('''CREATE TABLE mxmh (\n",
    "  Timestamp TEXT,\n",
    "  Age INT,\n",
    "  Primary_streaming_service text,\n",
    "  Hours per day DOUBLE,\n",
    "  While working TEXT,\n",
    "  Instrumentalist CHAR(3),\n",
    "  Composer VARCHAR(50),\n",
    "  Fav genre VARCHAR(20),\n",
    "  Exploratory CHAR(3),\n",
    "  Foreign languages CHAR(3),\n",
    "  BPM INT,\n",
    "  Frequency_Classical VARCHAR(20),\n",
    "  Frequency_Country VARCHAR(20),\n",
    "  Frequency_EDM VARCHAR(20),\n",
    "  Frequency_Folk VARCHAR(20),\n",
    "  Frequency_Gospel VARCHAR(20),\n",
    "  Frequency_Hip_hop VARCHAR(20),\n",
    "  Frequency_Jazz VARCHAR(20),\n",
    "  Frequency_K_pop VARCHAR(20),\n",
    "  Frequency_Latin VARCHAR(20),\n",
    "  Frequency_Lofi VARCHAR(20),\n",
    "  Frequency_Metal VARCHAR(20),\n",
    "  Frequency_Pop VARCHAR(20),\n",
    "  Frequency_R_and_B VARCHAR(20),\n",
    "  Frequency_Rap VARCHAR(20),\n",
    "  Frequency_Rock VARCHAR(20),\n",
    "  Frequency_Video_game_music VARCHAR(20),\n",
    "  Anxiety INT,\n",
    "  Depression INT,\n",
    "  Insomnia INT,\n",
    "  OCD INT,\n",
    "  Music effects VARCHAR(10),\n",
    "  Permissions VARCHAR(20)\n",
    ")''')"
   ]
  },
  {
   "cell_type": "code",
   "execution_count": 63,
   "metadata": {},
   "outputs": [],
   "source": [
    "selecionar = \"SELECT * from MusicandMentalHealthSurveyResults.mxmh_survey_results\""
   ]
  },
  {
   "cell_type": "code",
   "execution_count": 44,
   "metadata": {},
   "outputs": [],
   "source": [
    "inserir_conteudo = \"INSERT INTO mxmh(Timestamp,Age,Primary streaming service,Hours per day,While working,Instrumentalist,Composer,Fav genre,Exploratory,Foreign languages,BPM,Frequency_Classical,Frequency_Country,Frequency_EDM,Frequency_Folk,Frequency_Gospel,Frequency_Hip_hop,Frequency_Jazz,Frequency_K_pop,Frequency_Latin,Frequency_Lofi,Frequency_Metal,Frequency_Pop,Frequency_R_and_B,Frequency_Rap,Frequency_Rock,Frequency_Video_game_music,Anxiety,Depression,Insomnia,OCD,Music effects,Permissions) VALUES(?,?,?,?,?,?,?,?,?,?,?,?,?,?,?,?,?,?,?,?,?,?,?,?,?,?,?,?,?,?,?,?,?)\""
   ]
  },
  {
   "cell_type": "code",
   "execution_count": 51,
   "metadata": {},
   "outputs": [
    {
     "ename": "OperationalError",
     "evalue": "near \"Primary\": syntax error",
     "output_type": "error",
     "traceback": [
      "\u001b[1;31m---------------------------------------------------------------------------\u001b[0m",
      "\u001b[1;31mOperationalError\u001b[0m                          Traceback (most recent call last)",
      "Cell \u001b[1;32mIn[51], line 1\u001b[0m\n\u001b[1;32m----> 1\u001b[0m \u001b[43mcursor\u001b[49m\u001b[38;5;241;43m.\u001b[39;49m\u001b[43mexecutemany\u001b[49m\u001b[43m(\u001b[49m\u001b[43minserir_conteudo\u001b[49m\u001b[43m,\u001b[49m\u001b[43m \u001b[49m\u001b[43mconteudo\u001b[49m\u001b[43m)\u001b[49m\n",
      "\u001b[1;31mOperationalError\u001b[0m: near \"Primary\": syntax error"
     ]
    }
   ],
   "source": [
    "cursor.executemany(inserir_conteudo, conteudo)"
   ]
  },
  {
   "cell_type": "code",
   "execution_count": 50,
   "metadata": {},
   "outputs": [],
   "source": [
    "selecionar_tudo = \"SELECT * FROM mxmh\""
   ]
  },
  {
   "cell_type": "code",
   "execution_count": null,
   "metadata": {},
   "outputs": [],
   "source": [
    "entradas = cursor.execute(selecionar_tudo).fetchall()"
   ]
  },
  {
   "cell_type": "code",
   "execution_count": null,
   "metadata": {},
   "outputs": [],
   "source": [
    "for entrada in entradas:\n",
    "    print(entrada)"
   ]
  },
  {
   "cell_type": "code",
   "execution_count": null,
   "metadata": {},
   "outputs": [],
   "source": [
    "connection.commit()"
   ]
  },
  {
   "cell_type": "code",
   "execution_count": null,
   "metadata": {},
   "outputs": [],
   "source": [
    "connection.close()"
   ]
  }
 ],
 "metadata": {
  "kernelspec": {
   "display_name": "Python 3",
   "language": "python",
   "name": "python3"
  },
  "language_info": {
   "codemirror_mode": {
    "name": "ipython",
    "version": 3
   },
   "file_extension": ".py",
   "mimetype": "text/x-python",
   "name": "python",
   "nbconvert_exporter": "python",
   "pygments_lexer": "ipython3",
   "version": "3.12.2"
  }
 },
 "nbformat": 4,
 "nbformat_minor": 2
}
